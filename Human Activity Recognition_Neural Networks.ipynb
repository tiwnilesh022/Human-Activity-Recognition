{
 "cells": [
  {
   "cell_type": "markdown",
   "metadata": {},
   "source": [
    "### Importing Libraries ###"
   ]
  },
  {
   "cell_type": "code",
   "execution_count": 1,
   "metadata": {},
   "outputs": [
    {
     "name": "stdout",
     "output_type": "stream",
     "text": [
      "D:\\Projects\\Human Activity Recognition\\Human Activity Recognition_Neural Networks.ipynb\n",
      "D:\\Projects\\Human Activity Recognition\\test.csv\n",
      "D:\\Projects\\Human Activity Recognition\\train.csv\n",
      "D:\\Projects\\Human Activity Recognition\\.ipynb_checkpoints\\Human Activity Recognition_Neural Networks-checkpoint.ipynb\n"
     ]
    }
   ],
   "source": [
    "import numpy as np\n",
    "import pandas as pd\n",
    "import matplotlib.pyplot as plt\n",
    "import seaborn as sns\n",
    "\n",
    "import os\n",
    "for dirname, _, filenames in os.walk('D:\\\\Projects\\\\Human Activity Recognition'):\n",
    "    for filename in filenames:\n",
    "        print(os.path.join(dirname, filename))"
   ]
  },
  {
   "cell_type": "code",
   "execution_count": 2,
   "metadata": {},
   "outputs": [],
   "source": [
    "training_data=pd.read_csv('D:\\\\Projects\\\\Human Activity Recognition\\\\train.csv')\n",
    "test_data=pd.read_csv('D:\\\\Projects\\\\Human Activity Recognition\\\\test.csv')"
   ]
  },
  {
   "cell_type": "code",
   "execution_count": 3,
   "metadata": {},
   "outputs": [
    {
     "name": "stdout",
     "output_type": "stream",
     "text": [
      "Training Data: (7352, 563)\n",
      "Any Null Values In the Training Data: False\n",
      "Test Data: (2947, 563)\n",
      "Any Null Values In the Test Data: False\n"
     ]
    }
   ],
   "source": [
    "print(\"Training Data: {}\".format(training_data.shape))\n",
    "print(\"Any Null Values In the Training Data: {}\".format(training_data.isnull().values.any()))\n",
    "\n",
    "\n",
    "\n",
    "print(\"Test Data: {}\".format(test_data.shape))\n",
    "print(\"Any Null Values In the Test Data: {}\".format(test_data.isnull().values.any()))"
   ]
  },
  {
   "cell_type": "code",
   "execution_count": 4,
   "metadata": {},
   "outputs": [],
   "source": [
    "X_train=training_data.iloc[:,:-2]\n",
    "y_train=training_data.iloc[:,-1]\n",
    "\n",
    "X_test=test_data.iloc[:,:-2]\n",
    "y_test=test_data.iloc[:,-1]"
   ]
  },
  {
   "cell_type": "code",
   "execution_count": 5,
   "metadata": {},
   "outputs": [],
   "source": [
    "Category_count=np.array(y_train.value_counts())\n",
    "activity=sorted(y_train.unique())"
   ]
  },
  {
   "cell_type": "code",
   "execution_count": 6,
   "metadata": {},
   "outputs": [
    {
     "data": {
      "image/png": "[encoded data removed]",
      "text/plain": [
       "<Figure size 1080x360 with 1 Axes>"
      ]
     },
     "metadata": {},
     "output_type": "display_data"
    }
   ],
   "source": [
    "plt.figure(figsize=(15,5))\n",
    "plt.pie(Category_count,labels=activity);"
   ]
  },
  {
   "cell_type": "code",
   "execution_count": 7,
   "metadata": {},
   "outputs": [],
   "source": [
    "acc=0\n",
    "gyro=0\n",
    "others=0\n",
    "for column in training_data.columns:\n",
    "    if \"Acc\" in str(column):\n",
    "        acc+=1\n",
    "    elif \"Gyro\" in str(column):\n",
    "        gyro+=1\n",
    "    else:\n",
    "        others+=1"
   ]
  },
  {
   "cell_type": "code",
   "execution_count": 8,
   "metadata": {},
   "outputs": [
    {
     "data": {
      "image/png": "[encoded data removed]",
      "text/plain": [
       "<Figure size 864x576 with 1 Axes>"
      ]
     },
     "metadata": {
      "needs_background": "light"
     },
     "output_type": "display_data"
    }
   ],
   "source": [
    "plt.figure(figsize=(12,8))\n",
    "plt.bar(['Accelerometer','Gyrometer','Others'],[acc,gyro,others],color=['r','g','b']);"
   ]
  },
  {
   "cell_type": "code",
   "execution_count": 9,
   "metadata": {},
   "outputs": [],
   "source": [
    "from sklearn.preprocessing import StandardScaler\n",
    "sc=StandardScaler()\n",
    "X_train=sc.fit_transform(X_train)\n",
    "X_test=sc.transform(X_test)"
   ]
  },
  {
   "cell_type": "code",
   "execution_count": 10,
   "metadata": {},
   "outputs": [],
   "source": [
    "from sklearn.preprocessing import LabelEncoder\n",
    "encoder=LabelEncoder()\n",
    "y_train=encoder.fit_transform(y_train)\n",
    "y_train=pd.get_dummies(y_train).values"
   ]
  },
  {
   "cell_type": "code",
   "execution_count": 11,
   "metadata": {},
   "outputs": [],
   "source": [
    "from sklearn.preprocessing import LabelEncoder\n",
    "encoder=LabelEncoder()\n",
    "y_test=encoder.fit_transform(y_test)\n",
    "y_test=pd.get_dummies(y_test).values"
   ]
  },
  {
   "cell_type": "code",
   "execution_count": 15,
   "metadata": {},
   "outputs": [],
   "source": [
    "from sklearn.decomposition import PCA\n",
    "pca=PCA(n_components=None)\n",
    "X_train=pca.fit_transform(X_train)\n",
    "X_test=pca.transform(X_test)\n",
    "explained_variance=pca.explained_variance_ratio_"
   ]
  },
  {
   "cell_type": "code",
   "execution_count": 16,
   "metadata": {},
   "outputs": [
    {
     "data": {
      "text/plain": [
       "array([5.07811723e-01, 6.58068027e-02, 2.80643677e-02, 2.50395275e-02,\n",
       "       1.88828501e-02, 1.72400642e-02, 1.37101147e-02, 1.19907768e-02,\n",
       "       9.95859511e-03, 9.65086590e-03, 8.60051649e-03, 8.00280950e-03,\n",
       "       7.63996369e-03, 6.45328924e-03, 6.32324346e-03, 5.99722090e-03,\n",
       "       5.86750302e-03, 5.75407392e-03, 5.67921047e-03, 5.27295779e-03,\n",
       "       5.00362925e-03, 4.88408406e-03, 4.78205784e-03, 4.68562930e-03,\n",
       "       4.49289260e-03, 4.21027243e-03, 4.17978682e-03, 4.05570369e-03,\n",
       "       3.88524168e-03, 3.87018044e-03, 3.65958878e-03, 3.54553381e-03,\n",
       "       3.47942606e-03, 3.37187109e-03, 3.29676999e-03, 3.28215050e-03,\n",
       "       3.20529478e-03, 2.95614939e-03, 2.86722415e-03, 2.85074548e-03,\n",
       "       2.68766324e-03, 2.65619859e-03, 2.63405989e-03, 2.58850596e-03,\n",
       "       2.49054872e-03, 2.46954034e-03, 2.40679913e-03, 2.36115075e-03,\n",
       "       2.30278857e-03, 2.27567245e-03, 2.20164699e-03, 2.13466984e-03,\n",
       "       2.07704456e-03, 2.02496620e-03, 1.99779441e-03, 1.97750625e-03,\n",
       "       1.94273627e-03, 1.90237160e-03, 1.88064891e-03, 1.86215970e-03,\n",
       "       1.81466544e-03, 1.77380987e-03, 1.76085074e-03, 1.73283909e-03,\n",
       "       1.70738317e-03, 1.68548073e-03, 1.65614929e-03, 1.63102448e-03,\n",
       "       1.58436782e-03, 1.57497542e-03, 1.53022902e-03, 1.52205247e-03,\n",
       "       1.48139151e-03, 1.46071476e-03, 1.44670526e-03, 1.42753738e-03,\n",
       "       1.38656539e-03, 1.35591695e-03, 1.34705548e-03, 1.33078158e-03,\n",
       "       1.30815550e-03, 1.30240739e-03, 1.28229864e-03, 1.24994798e-03,\n",
       "       1.22974483e-03, 1.21552960e-03, 1.19170472e-03, 1.17436497e-03,\n",
       "       1.15283702e-03, 1.13147455e-03, 1.10592054e-03, 1.09326676e-03,\n",
       "       1.07921823e-03, 1.05983611e-03, 1.02711779e-03, 1.02086442e-03,\n",
       "       1.00722080e-03, 9.84274129e-04, 9.64768328e-04, 9.38411210e-04,\n",
       "       9.23386748e-04, 9.17395339e-04, 8.98893380e-04, 8.94995590e-04,\n",
       "       8.75176393e-04, 8.70466802e-04, 8.58500025e-04, 8.34789074e-04,\n",
       "       8.27557558e-04, 8.26355241e-04, 8.11534976e-04, 7.98272745e-04,\n",
       "       7.72818789e-04, 7.58213801e-04, 7.50513383e-04, 7.28136300e-04,\n",
       "       7.18148372e-04, 7.09966903e-04, 6.97854018e-04, 6.78705081e-04,\n",
       "       6.64375012e-04, 6.50269657e-04, 6.39855199e-04, 6.30796301e-04,\n",
       "       6.21437731e-04, 6.15389578e-04, 6.02431674e-04, 5.96996321e-04,\n",
       "       5.82891574e-04, 5.75654343e-04, 5.64485244e-04, 5.57471583e-04,\n",
       "       5.45618542e-04, 5.39341176e-04, 5.29318324e-04, 5.25714158e-04,\n",
       "       5.15133326e-04, 5.05175113e-04, 5.02220396e-04, 4.88906240e-04,\n",
       "       4.84919846e-04, 4.74685040e-04, 4.69585258e-04, 4.61118783e-04,\n",
       "       4.60303801e-04, 4.50249601e-04, 4.42694120e-04, 4.37648533e-04,\n",
       "       4.29693762e-04, 4.22632660e-04, 4.16209744e-04, 4.09031341e-04,\n",
       "       4.07198954e-04, 3.98152708e-04, 3.87819397e-04, 3.85706947e-04,\n",
       "       3.79896552e-04, 3.68934940e-04, 3.62786914e-04, 3.54410253e-04,\n",
       "       3.47723424e-04, 3.46879694e-04, 3.35116336e-04, 3.32705631e-04,\n",
       "       3.26087499e-04, 3.15121893e-04, 3.02513246e-04, 2.88157589e-04,\n",
       "       2.73460298e-04, 2.67374190e-04, 2.59346227e-04, 2.53948264e-04,\n",
       "       2.46786301e-04, 2.41381782e-04, 2.38940673e-04, 2.28360155e-04,\n",
       "       2.25853592e-04, 2.24241681e-04, 2.14799624e-04, 2.08470907e-04,\n",
       "       2.04918069e-04, 1.98169379e-04, 1.96786294e-04, 1.88640947e-04,\n",
       "       1.82513335e-04, 1.80149866e-04, 1.74943506e-04, 1.71658778e-04,\n",
       "       1.67942227e-04, 1.64189168e-04, 1.56091218e-04, 1.55297886e-04,\n",
       "       1.48624880e-04, 1.46546181e-04, 1.43583547e-04, 1.38617453e-04,\n",
       "       1.36686865e-04, 1.31551749e-04, 1.24661068e-04, 1.23390418e-04,\n",
       "       1.20877808e-04, 1.18619996e-04, 1.15197016e-04, 1.11405824e-04,\n",
       "       1.08403383e-04, 1.05223256e-04, 1.03123893e-04, 9.92588958e-05,\n",
       "       9.88228438e-05, 9.69455693e-05, 9.52823210e-05, 9.29974440e-05,\n",
       "       9.09989820e-05, 9.02663923e-05, 8.94427789e-05, 8.86210791e-05,\n",
       "       8.77445408e-05, 8.50704689e-05, 8.21190530e-05, 8.18181796e-05,\n",
       "       8.06130196e-05, 7.94607761e-05, 7.82510991e-05, 7.63689785e-05,\n",
       "       7.51544933e-05, 7.40207555e-05, 7.18409342e-05, 7.10465615e-05,\n",
       "       7.02033879e-05, 6.89494913e-05, 6.80655085e-05, 6.66664300e-05,\n",
       "       6.51964162e-05, 6.48294423e-05, 6.25299230e-05, 6.17140063e-05,\n",
       "       6.09121494e-05, 5.95702112e-05, 5.94037377e-05, 5.85889363e-05,\n",
       "       5.76238866e-05, 5.70355479e-05, 5.61242824e-05, 5.45682738e-05,\n",
       "       5.32075077e-05, 5.30465083e-05, 5.16647520e-05, 5.13750513e-05,\n",
       "       4.99369873e-05, 4.86742430e-05, 4.79054318e-05, 4.71302992e-05,\n",
       "       4.62447979e-05, 4.52463762e-05, 4.41717910e-05, 4.31265005e-05,\n",
       "       4.25229326e-05, 4.20687559e-05, 4.05894218e-05, 4.04843640e-05,\n",
       "       3.99552560e-05, 3.87900310e-05, 3.85995471e-05, 3.80015416e-05,\n",
       "       3.75668437e-05, 3.63161160e-05, 3.56151852e-05, 3.49489273e-05,\n",
       "       3.46557562e-05, 3.35310985e-05, 3.30853549e-05, 3.25462528e-05,\n",
       "       3.21472588e-05, 3.17508450e-05, 3.10102254e-05, 3.04362348e-05,\n",
       "       2.93713307e-05, 2.92026712e-05, 2.88083627e-05, 2.79630436e-05,\n",
       "       2.79183138e-05, 2.76236237e-05, 2.68229223e-05, 2.62488507e-05,\n",
       "       2.59824139e-05, 2.57280496e-05, 2.51909164e-05, 2.46715706e-05,\n",
       "       2.43059206e-05, 2.41169941e-05, 2.38997283e-05, 2.30023015e-05,\n",
       "       2.29245564e-05, 2.25931186e-05, 2.24081881e-05, 2.18782455e-05,\n",
       "       2.15489086e-05, 2.15232796e-05, 2.08601439e-05, 2.07249264e-05,\n",
       "       2.01958696e-05, 1.96945960e-05, 1.95452722e-05, 1.93284986e-05,\n",
       "       1.89562436e-05, 1.86931625e-05, 1.85588477e-05, 1.82242774e-05,\n",
       "       1.80039789e-05, 1.76397623e-05, 1.72440721e-05, 1.70314181e-05,\n",
       "       1.64016994e-05, 1.63435936e-05, 1.60678606e-05, 1.58552449e-05,\n",
       "       1.58010966e-05, 1.54615655e-05, 1.52278135e-05, 1.51563314e-05,\n",
       "       1.48092237e-05, 1.46953487e-05, 1.42420454e-05, 1.42144064e-05,\n",
       "       1.36619284e-05, 1.33798700e-05, 1.30659872e-05, 1.29558943e-05,\n",
       "       1.25900181e-05, 1.23464212e-05, 1.21982128e-05, 1.18778128e-05,\n",
       "       1.15557944e-05, 1.13628988e-05, 1.10719577e-05, 1.09822315e-05,\n",
       "       1.05666034e-05, 1.04422367e-05, 1.02480568e-05, 9.82805368e-06,\n",
       "       9.69092549e-06, 9.53627675e-06, 9.31336629e-06, 9.04589770e-06,\n",
       "       8.75117177e-06, 8.38200492e-06, 8.18681681e-06, 8.15081335e-06,\n",
       "       7.87885163e-06, 7.65430430e-06, 7.50252471e-06, 7.17399929e-06,\n",
       "       6.91564293e-06, 6.73227208e-06, 6.56161178e-06, 6.52174138e-06,\n",
       "       6.21692271e-06, 6.02829911e-06, 5.95882675e-06, 5.81943313e-06,\n",
       "       5.46080815e-06, 5.34404091e-06, 5.32498828e-06, 5.05723893e-06,\n",
       "       5.01036642e-06, 4.72015529e-06, 4.64502736e-06, 4.49348997e-06,\n",
       "       4.37281993e-06, 4.13485798e-06, 4.10642526e-06, 4.00889186e-06,\n",
       "       3.93487802e-06, 3.83746982e-06, 3.74779938e-06, 3.61352061e-06,\n",
       "       3.50801719e-06, 3.47872092e-06, 3.28233620e-06, 3.15085651e-06,\n",
       "       3.08065556e-06, 2.97070882e-06, 2.69378376e-06, 2.60914876e-06,\n",
       "       2.57978556e-06, 2.51491779e-06, 2.29127111e-06, 2.21911987e-06,\n",
       "       2.13682769e-06, 2.06123188e-06, 2.04878243e-06, 2.00866015e-06,\n",
       "       1.94607344e-06, 1.87380562e-06, 1.64088158e-06, 1.58105832e-06,\n",
       "       1.52027815e-06, 1.46509503e-06, 1.35798259e-06, 1.32109360e-06,\n",
       "       1.30549314e-06, 1.24436515e-06, 1.17700506e-06, 1.12820607e-06,\n",
       "       1.07694883e-06, 1.01257449e-06, 9.66671981e-07, 9.26166884e-07,\n",
       "       8.95073667e-07, 8.64892827e-07, 8.16942676e-07, 7.83851669e-07,\n",
       "       7.51111834e-07, 7.23640630e-07, 7.09784805e-07, 6.82083730e-07,\n",
       "       6.74328151e-07, 6.39801988e-07, 6.18445445e-07, 5.98594531e-07,\n",
       "       5.80967584e-07, 5.65441587e-07, 5.41352962e-07, 5.25957596e-07,\n",
       "       4.88288359e-07, 4.80361420e-07, 4.63931067e-07, 4.25119338e-07,\n",
       "       4.10076367e-07, 3.85009426e-07, 3.69754012e-07, 3.59867712e-07,\n",
       "       3.56664245e-07, 3.49621265e-07, 3.09570879e-07, 2.98237486e-07,\n",
       "       2.73805438e-07, 2.64106544e-07, 2.57003377e-07, 2.28527719e-07,\n",
       "       2.06938131e-07, 2.02960791e-07, 1.45318804e-07, 7.17597916e-08,\n",
       "       4.58553418e-08, 4.11180794e-08, 3.48109205e-08, 3.36982085e-08,\n",
       "       2.71295443e-08, 2.64190551e-08, 2.26469504e-08, 2.15367162e-08,\n",
       "       2.04918619e-08, 1.73888902e-08, 1.64903860e-08, 1.15757009e-08,\n",
       "       1.13994859e-08, 1.01919403e-08, 9.22868025e-09, 7.24687376e-09,\n",
       "       6.71738896e-09, 6.01631216e-09, 5.52037578e-09, 4.13158921e-09,\n",
       "       2.41778928e-10, 1.44927754e-10, 1.02644878e-10, 3.71716952e-12,\n",
       "       1.07963161e-12, 2.79609647e-13, 3.05919265e-18, 2.85305833e-18,\n",
       "       2.61777085e-18, 2.19589314e-18, 1.85000601e-18, 1.79946560e-18,\n",
       "       1.70964629e-18, 1.68477125e-18, 1.63807016e-18, 1.52806800e-18,\n",
       "       1.38547145e-18, 1.24618427e-18, 1.16244945e-18, 1.14116910e-18,\n",
       "       1.12994884e-18, 1.07105811e-18, 1.02183566e-18, 8.82089783e-19,\n",
       "       8.68452915e-19, 8.56499393e-19, 8.14750942e-19, 8.05791102e-19,\n",
       "       7.93815101e-19, 7.65918914e-19, 7.42078121e-19, 7.11946830e-19,\n",
       "       6.84805464e-19, 6.34245466e-19, 6.14131091e-19, 6.00408213e-19,\n",
       "       5.81183053e-19, 5.40129483e-19, 5.01766995e-19, 4.70580991e-19,\n",
       "       4.30603121e-19, 4.18487614e-19, 4.15668311e-19, 3.95407525e-19,\n",
       "       3.85968429e-19, 3.68450582e-19, 3.55946359e-19, 3.52230882e-19,\n",
       "       3.45008139e-19, 3.38621345e-19, 3.32820888e-19, 3.24620530e-19,\n",
       "       3.22984448e-19, 3.07309215e-19, 3.01219932e-19, 2.93706725e-19,\n",
       "       2.88633464e-19, 2.77526208e-19, 2.68853035e-19, 2.60571291e-19,\n",
       "       2.54818638e-19, 2.52455842e-19, 2.44925858e-19, 2.42984429e-19,\n",
       "       2.33758422e-19, 2.26436117e-19, 2.09600185e-19, 1.93310876e-19,\n",
       "       1.90445476e-19, 1.80300372e-19, 1.74557377e-19, 1.45830101e-19,\n",
       "       1.37175292e-19, 9.85387139e-20, 7.23230708e-20, 5.67236994e-20,\n",
       "       3.24903205e-33, 3.24903205e-33, 3.24903205e-33, 3.24903205e-33,\n",
       "       3.24903205e-33, 3.24903205e-33, 3.24903205e-33, 3.24903205e-33,\n",
       "       3.24903205e-33, 3.24903205e-33, 3.24903205e-33, 3.24903205e-33,\n",
       "       3.24903205e-33, 3.24903205e-33, 3.24903205e-33, 3.24903205e-33,\n",
       "       3.24903205e-33, 3.24903205e-33, 3.24903205e-33, 1.17598426e-34,\n",
       "       1.20490996e-35])"
      ]
     },
     "execution_count": 16,
     "metadata": {},
     "output_type": "execute_result"
    }
   ],
   "source": [
    "explained_variance"
   ]
  },
  {
   "cell_type": "code",
   "execution_count": 18,
   "metadata": {},
   "outputs": [],
   "source": [
    "import tensorflow as tf\n",
    "import tensorflow.keras as keras\n",
    "\n",
    "from keras.models import Sequential\n",
    "from keras.layers import Dense,Dropout"
   ]
  },
  {
   "cell_type": "code",
   "execution_count": 19,
   "metadata": {},
   "outputs": [],
   "source": [
    "model=Sequential()\n",
    "model.add(Dense(units=64,kernel_initializer='uniform',activation='relu',input_dim=X_train.shape[1]))\n",
    "\n",
    "model.add(Dense(units=128,kernel_initializer='uniform',activation='relu'))\n",
    "\n",
    "model.add(Dense(units=64,kernel_initializer='uniform',activation='relu'))\n",
    "\n",
    "model.add(Dense(units=6,kernel_initializer='uniform',activation='softmax'))"
   ]
  },
  {
   "cell_type": "code",
   "execution_count": 20,
   "metadata": {},
   "outputs": [],
   "source": [
    "model.compile(optimizer='adam',loss='categorical_crossentropy',metrics=['accuracy'])"
   ]
  },
  {
   "cell_type": "code",
   "execution_count": 21,
   "metadata": {},
   "outputs": [
    {
     "name": "stdout",
     "output_type": "stream",
     "text": [
      "Epoch 1/22\n",
      "29/29 [==============================] - 0s 6ms/step - loss: 1.5592 - accuracy: 0.4600 - val_loss: 1.0782 - val_accuracy: 0.3526\n",
      "Epoch 2/22\n",
      "29/29 [==============================] - 0s 2ms/step - loss: 0.7050 - accuracy: 0.7319 - val_loss: 0.3313 - val_accuracy: 0.8487\n",
      "Epoch 3/22\n",
      "29/29 [==============================] - 0s 2ms/step - loss: 0.1727 - accuracy: 0.9513 - val_loss: 0.1382 - val_accuracy: 0.9505\n",
      "Epoch 4/22\n",
      "29/29 [==============================] - 0s 2ms/step - loss: 0.0533 - accuracy: 0.9833 - val_loss: 0.1165 - val_accuracy: 0.9579\n",
      "Epoch 5/22\n",
      "29/29 [==============================] - 0s 2ms/step - loss: 0.0337 - accuracy: 0.9897 - val_loss: 0.1082 - val_accuracy: 0.9627\n",
      "Epoch 6/22\n",
      "29/29 [==============================] - 0s 2ms/step - loss: 0.0252 - accuracy: 0.9935 - val_loss: 0.1039 - val_accuracy: 0.9623\n",
      "Epoch 7/22\n",
      "29/29 [==============================] - 0s 2ms/step - loss: 0.0244 - accuracy: 0.9913 - val_loss: 0.1135 - val_accuracy: 0.9637\n",
      "Epoch 8/22\n",
      "29/29 [==============================] - 0s 2ms/step - loss: 0.0182 - accuracy: 0.9937 - val_loss: 0.1330 - val_accuracy: 0.9572\n",
      "Epoch 9/22\n",
      "29/29 [==============================] - 0s 2ms/step - loss: 0.0135 - accuracy: 0.9967 - val_loss: 0.1085 - val_accuracy: 0.9657\n",
      "Epoch 10/22\n",
      "29/29 [==============================] - 0s 2ms/step - loss: 0.0112 - accuracy: 0.9973 - val_loss: 0.1146 - val_accuracy: 0.9664\n",
      "Epoch 11/22\n",
      "29/29 [==============================] - 0s 2ms/step - loss: 0.0094 - accuracy: 0.9970 - val_loss: 0.1216 - val_accuracy: 0.9637\n",
      "Epoch 12/22\n",
      "29/29 [==============================] - 0s 2ms/step - loss: 0.0075 - accuracy: 0.9986 - val_loss: 0.1251 - val_accuracy: 0.9627\n",
      "Epoch 13/22\n",
      "29/29 [==============================] - 0s 2ms/step - loss: 0.0050 - accuracy: 0.9989 - val_loss: 0.1199 - val_accuracy: 0.9640\n",
      "Epoch 14/22\n",
      "29/29 [==============================] - 0s 2ms/step - loss: 0.0032 - accuracy: 0.9997 - val_loss: 0.1260 - val_accuracy: 0.9650\n",
      "Epoch 15/22\n",
      "29/29 [==============================] - 0s 2ms/step - loss: 0.0027 - accuracy: 0.9997 - val_loss: 0.1314 - val_accuracy: 0.9637\n",
      "Epoch 16/22\n",
      "29/29 [==============================] - 0s 2ms/step - loss: 0.0020 - accuracy: 1.0000 - val_loss: 0.1318 - val_accuracy: 0.9640\n",
      "Epoch 17/22\n",
      "29/29 [==============================] - 0s 2ms/step - loss: 0.0016 - accuracy: 1.0000 - val_loss: 0.1439 - val_accuracy: 0.9620\n",
      "Epoch 18/22\n",
      "29/29 [==============================] - 0s 2ms/step - loss: 0.0012 - accuracy: 1.0000 - val_loss: 0.1388 - val_accuracy: 0.9627\n",
      "Epoch 19/22\n",
      "29/29 [==============================] - 0s 2ms/step - loss: 8.9301e-04 - accuracy: 1.0000 - val_loss: 0.1444 - val_accuracy: 0.9617\n",
      "Epoch 20/22\n",
      "29/29 [==============================] - 0s 2ms/step - loss: 7.0594e-04 - accuracy: 1.0000 - val_loss: 0.1415 - val_accuracy: 0.9623\n",
      "Epoch 21/22\n",
      "29/29 [==============================] - 0s 2ms/step - loss: 6.0318e-04 - accuracy: 1.0000 - val_loss: 0.1466 - val_accuracy: 0.9620\n",
      "Epoch 22/22\n",
      "29/29 [==============================] - 0s 2ms/step - loss: 5.1970e-04 - accuracy: 1.0000 - val_loss: 0.1448 - val_accuracy: 0.9623\n"
     ]
    }
   ],
   "source": [
    "history=model.fit(X_train,y_train,batch_size=256,epochs=22,validation_data=(X_test,y_test))"
   ]
  },
  {
   "cell_type": "code",
   "execution_count": 22,
   "metadata": {},
   "outputs": [
    {
     "data": {
      "image/png": "[encoded data removed]",
      "text/plain": [
       "<Figure size 720x288 with 1 Axes>"
      ]
     },
     "metadata": {
      "needs_background": "light"
     },
     "output_type": "display_data"
    },
    {
     "data": {
      "image/png": "[encoded data removed]",
      "text/plain": [
       "<Figure size 720x288 with 1 Axes>"
      ]
     },
     "metadata": {
      "needs_background": "light"
     },
     "output_type": "display_data"
    }
   ],
   "source": [
    "from pylab import rcParams\n",
    "rcParams['figure.figsize'] = 10, 4\n",
    "plt.plot(history.history['accuracy'])\n",
    "plt.plot(history.history['val_accuracy'])\n",
    "plt.title('model accuracy')\n",
    "plt.ylabel('accuracy')\n",
    "plt.xlabel('epoch')\n",
    "plt.legend(['train', 'test'], loc='upper left')\n",
    "plt.show()\n",
    "# summarize history for loss\n",
    "plt.plot(history.history['loss'])\n",
    "plt.plot(history.history['val_loss'])\n",
    "plt.title('model loss')\n",
    "plt.ylabel('loss')\n",
    "plt.xlabel('epoch')\n",
    "plt.legend(['train', 'test'], loc='upper left')\n",
    "plt.show()"
   ]
  },
  {
   "cell_type": "code",
   "execution_count": 23,
   "metadata": {},
   "outputs": [],
   "source": [
    "y_pred=model.predict(X_test)"
   ]
  },
  {
   "cell_type": "code",
   "execution_count": 24,
   "metadata": {},
   "outputs": [],
   "source": [
    "y_test_class=np.argmax(y_test,axis=1)\n",
    "y_pred_class=np.argmax(y_pred,axis=1)"
   ]
  },
  {
   "cell_type": "code",
   "execution_count": 25,
   "metadata": {},
   "outputs": [
    {
     "data": {
      "text/plain": [
       "array([2, 2, 2, ..., 5, 5, 5], dtype=int64)"
      ]
     },
     "execution_count": 25,
     "metadata": {},
     "output_type": "execute_result"
    }
   ],
   "source": [
    "y_test_class"
   ]
  },
  {
   "cell_type": "code",
   "execution_count": 26,
   "metadata": {},
   "outputs": [
    {
     "data": {
      "text/plain": [
       "array([2, 2, 1, ..., 5, 5, 5], dtype=int64)"
      ]
     },
     "execution_count": 26,
     "metadata": {},
     "output_type": "execute_result"
    }
   ],
   "source": [
    "y_pred_class"
   ]
  },
  {
   "cell_type": "code",
   "execution_count": 27,
   "metadata": {},
   "outputs": [],
   "source": [
    "from sklearn.metrics import confusion_matrix,accuracy_score\n",
    "cm=confusion_matrix(y_test_class,y_pred_class)\n",
    "accuracy=accuracy_score(y_test_class,y_pred_class)"
   ]
  },
  {
   "cell_type": "code",
   "execution_count": 28,
   "metadata": {},
   "outputs": [
    {
     "data": {
      "text/plain": [
       "array([[537,   0,   0,   0,   0,   0],\n",
       "       [  1, 432,  57,   0,   0,   1],\n",
       "       [  0,  19, 513,   0,   0,   0],\n",
       "       [  0,   0,   0, 492,   2,   2],\n",
       "       [  0,   0,   0,   3, 410,   7],\n",
       "       [  0,   0,   0,  19,   0, 452]], dtype=int64)"
      ]
     },
     "execution_count": 28,
     "metadata": {},
     "output_type": "execute_result"
    }
   ],
   "source": [
    "cm"
   ]
  },
  {
   "cell_type": "code",
   "execution_count": 29,
   "metadata": {},
   "outputs": [
    {
     "data": {
      "text/plain": [
       "0.9623345775364778"
      ]
     },
     "execution_count": 29,
     "metadata": {},
     "output_type": "execute_result"
    }
   ],
   "source": [
    "accuracy"
   ]
  },
  {
   "cell_type": "code",
   "execution_count": null,
   "metadata": {},
   "outputs": [],
   "source": []
  }
 ],
 "metadata": {
  "kernelspec": {
   "display_name": "Python 3",
   "language": "python",
   "name": "python3"
  },
  "language_info": {
   "codemirror_mode": {
    "name": "ipython",
    "version": 3
   },
   "file_extension": ".py",
   "mimetype": "text/x-python",
   "name": "python",
   "nbconvert_exporter": "python",
   "pygments_lexer": "ipython3",
   "version": "3.8.3"
  }
 },
 "nbformat": 4,
 "nbformat_minor": 4
}
